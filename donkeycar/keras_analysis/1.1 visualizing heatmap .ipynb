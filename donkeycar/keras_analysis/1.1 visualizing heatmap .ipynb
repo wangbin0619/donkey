{
 "cells": [
  {
   "cell_type": "code",
   "execution_count": 1,
   "metadata": {},
   "outputs": [
    {
     "name": "stderr",
     "output_type": "stream",
     "text": [
      "Using TensorFlow backend.\n"
     ]
    },
    {
     "data": {
      "text/plain": [
       "'2.2.4'"
      ]
     },
     "execution_count": 1,
     "metadata": {},
     "output_type": "execute_result"
    }
   ],
   "source": [
    "import keras\n",
    "#from tensorflow.python.keras._impl.keras import __version__\n",
    "keras.__version__ "
   ]
  },
  {
   "cell_type": "markdown",
   "metadata": {},
   "source": [
    "## Visualizing heatmaps of class activation\n",
    "\n",
    "We will introduce one more visualization technique, one that is useful for understanding which parts of a given image led a convnet to its \n",
    "final classification decision. This is helpful for \"debugging\" the decision process of a convnet, in particular in case of a classification \n",
    "mistake. It also allows you to locate specific objects in an image.\n",
    "\n",
    "This general category of techniques is called \"Class Activation Map\" (CAM) visualization, and consists in producing heatmaps of \"class \n",
    "activation\" over input images. A \"class activation\" heatmap is a 2D grid of scores associated with an specific output class, computed for \n",
    "every location in any input image, indicating how important each location is with respect to the class considered. For instance, given a \n",
    "image fed into one of our \"cat vs. dog\" convnet, Class Activation Map visualization allows us to generate a heatmap for the class \"cat\", \n",
    "indicating how cat-like different parts of the image are, and likewise for the class \"dog\", indicating how dog-like differents parts of the \n",
    "image are.\n",
    "\n",
    "The specific implementation we will use is the one described in [Grad-CAM: Why did you say that? Visual Explanations from Deep Networks via \n",
    "Gradient-based Localization](https://arxiv.org/abs/1610.02391). It is very simple: it consists in taking the output feature map of a \n",
    "convolution layer given an input image, and weighing every channel in that feature map by the gradient of the class with respect to the \n",
    "channel. Intuitively, one way to understand this trick is that we are weighting a spatial map of \"how intensely the input image activates \n",
    "different channels\" by \"how important each channel is with regard to the class\", resulting in a spatial map of \"how intensely the input \n",
    "image activates the class\".\n",
    "\n",
    "We will demonstrate this technique using the pre-trained VGG16 network again:"
   ]
  },
  {
   "cell_type": "markdown",
   "metadata": {},
   "source": [
    "Let's consider the following image\n",
    "![Heatmap](../../../1_Donkey_Analysis/data/tub_3_19-02-27/212_cam-image_array_.jpg)"
   ]
  },
  {
   "cell_type": "markdown",
   "metadata": {},
   "source": [
    "Let's convert this image into something the VGG16 model can read: the model was trained on images of size 224x244, preprocessed according \n",
    "to a few rules that are packaged in the utility function `keras.applications.vgg16.preprocess_input`. So we need to load the image, resize \n",
    "it to 224x224, convert it to a Numpy float32 tensor, and apply these pre-processing rules."
   ]
  },
  {
   "cell_type": "code",
   "execution_count": 2,
   "metadata": {},
   "outputs": [
    {
     "name": "stdout",
     "output_type": "stream",
     "text": [
      "__________________________________________________________________________________________________\n",
      "Layer (type)                    Output Shape         Param #     Connected to                     \n",
      "==================================================================================================\n",
      "img_in (InputLayer)             (None, 120, 160, 3)  0                                            \n",
      "__________________________________________________________________________________________________\n",
      "cropping2d_1 (Cropping2D)       (None, 120, 160, 3)  0           img_in[0][0]                     \n",
      "__________________________________________________________________________________________________\n",
      "batch_normalization_1 (BatchNor (None, 120, 160, 3)  12          cropping2d_1[0][0]               \n",
      "__________________________________________________________________________________________________\n",
      "conv2d_1 (Conv2D)               (None, 58, 78, 24)   1824        batch_normalization_1[0][0]      \n",
      "__________________________________________________________________________________________________\n",
      "dropout_1 (Dropout)             (None, 58, 78, 24)   0           conv2d_1[0][0]                   \n",
      "__________________________________________________________________________________________________\n",
      "conv2d_2 (Conv2D)               (None, 27, 37, 32)   19232       dropout_1[0][0]                  \n",
      "__________________________________________________________________________________________________\n",
      "dropout_2 (Dropout)             (None, 27, 37, 32)   0           conv2d_2[0][0]                   \n",
      "__________________________________________________________________________________________________\n",
      "conv2d_3 (Conv2D)               (None, 12, 17, 64)   51264       dropout_2[0][0]                  \n",
      "__________________________________________________________________________________________________\n",
      "conv2d_4 (Conv2D)               (None, 5, 8, 64)     36928       conv2d_3[0][0]                   \n",
      "__________________________________________________________________________________________________\n",
      "dropout_3 (Dropout)             (None, 5, 8, 64)     0           conv2d_4[0][0]                   \n",
      "__________________________________________________________________________________________________\n",
      "conv2d_5 (Conv2D)               (None, 3, 6, 64)     36928       dropout_3[0][0]                  \n",
      "__________________________________________________________________________________________________\n",
      "dropout_4 (Dropout)             (None, 3, 6, 64)     0           conv2d_5[0][0]                   \n",
      "__________________________________________________________________________________________________\n",
      "flattened (Flatten)             (None, 1152)         0           dropout_4[0][0]                  \n",
      "__________________________________________________________________________________________________\n",
      "fc_1 (Dense)                    (None, 100)          115300      flattened[0][0]                  \n",
      "__________________________________________________________________________________________________\n",
      "dropout_5 (Dropout)             (None, 100)          0           fc_1[0][0]                       \n",
      "__________________________________________________________________________________________________\n",
      "fc_2 (Dense)                    (None, 50)           5050        dropout_5[0][0]                  \n",
      "__________________________________________________________________________________________________\n",
      "dropout_6 (Dropout)             (None, 50)           0           fc_2[0][0]                       \n",
      "__________________________________________________________________________________________________\n",
      "angle_out (Dense)               (None, 15)           765         dropout_6[0][0]                  \n",
      "__________________________________________________________________________________________________\n",
      "throttle_out (Dense)            (None, 20)           1020        dropout_6[0][0]                  \n",
      "==================================================================================================\n",
      "Total params: 268,323\n",
      "Trainable params: 268,317\n",
      "Non-trainable params: 6\n",
      "__________________________________________________________________________________________________\n"
     ]
    }
   ],
   "source": [
    "from keras.models import load_model\n",
    "import os\n",
    "\n",
    "base_dir = '/home/wangbin/1_Donkey_Analysis/'\n",
    "model_path = os.path.join(base_dir,'models/tub_all_19-02-27.h5')\n",
    "\n",
    "\n",
    "model = load_model(model_path)\n",
    "model.summary()  # As a reminder."
   ]
  },
  {
   "cell_type": "code",
   "execution_count": 5,
   "metadata": {},
   "outputs": [
    {
     "name": "stdout",
     "output_type": "stream",
     "text": [
      "(1, 120, 160, 3)\n"
     ]
    }
   ],
   "source": [
    "img_path = os.path.join(base_dir,'data/tub_3_19-02-27/212_cam-image_array_.jpg')\n",
    "\n",
    "# We preprocess the image into a 4D tensor\n",
    "from keras.preprocessing import image\n",
    "import numpy as np\n",
    "\n",
    "img = image.load_img(img_path, target_size=(120, 160))\n",
    "img_tensor = image.img_to_array(img)\n",
    "\n",
    "img_tensor = np.expand_dims(img_tensor, axis=0)\n",
    "\n",
    "# Remember that the model was trained on inputs\n",
    "# that were preprocessed in the following way:\n",
    "img_tensor /= 255.\n",
    "\n",
    "# Its shape is (1, 150, 150, 3)\n",
    "print(img_tensor.shape)"
   ]
  },
  {
   "cell_type": "code",
   "execution_count": 6,
   "metadata": {},
   "outputs": [
    {
     "data": {
      "text/plain": [
       "array([[3.2551982e-02, 6.2567351e-04, 3.7178781e-04, 3.2831524e-03,\n",
       "        4.9014064e-04, 1.1945328e-04, 1.8428067e-04, 4.0032873e-01,\n",
       "        2.1842234e-04, 3.1129306e-04, 2.1061656e-04, 7.5795862e-04,\n",
       "        9.0226909e-05, 2.3096711e-03, 5.5814654e-01]], dtype=float32)"
      ]
     },
     "execution_count": 6,
     "metadata": {},
     "output_type": "execute_result"
    }
   ],
   "source": [
    "preds = model.predict(img_tensor)\n",
    "preds[0].shape\n",
    "preds[0]\n",
    "#print('Predicted:', decode_predictions(preds, top=3)[0])"
   ]
  },
  {
   "cell_type": "markdown",
   "metadata": {},
   "source": [
    "\n",
    "The top-3 classes predicted for this image are:\n",
    "\n",
    "* African elephant (with 92.5% probability)\n",
    "* Tusker (with 7% probability)\n",
    "* Indian elephant (with 0.4% probability)\n",
    "\n",
    "Thus our network has recognized our image as containing an undetermined quantity of African elephants. The entry in the prediction vector \n",
    "that was maximally activated is the one corresponding to the \"African elephant\" class, at index 386:"
   ]
  },
  {
   "cell_type": "code",
   "execution_count": 7,
   "metadata": {},
   "outputs": [],
   "source": [
    "index = np.argmax(preds[0])"
   ]
  },
  {
   "cell_type": "markdown",
   "metadata": {},
   "source": [
    "To visualize which parts of our image were the most \"African elephant\"-like, let's set up the Grad-CAM process:"
   ]
  },
  {
   "cell_type": "code",
   "execution_count": 8,
   "metadata": {},
   "outputs": [],
   "source": [
    "# This is the \"line follow\" entry in the prediction vector\n",
    "linefollow_output = model.output[0][:, index]"
   ]
  },
  {
   "cell_type": "code",
   "execution_count": 29,
   "metadata": {},
   "outputs": [],
   "source": [
    "from keras import backend as K\n",
    "\n",
    "# The is the output feature map of the `conv2d_5` layer,\n",
    "# the last convolutional layer in model\n",
    "last_conv_layer = model.get_layer('conv2d_5')\n",
    "\n",
    "# This is the gradient of the \"african elephant\" class with regard to\n",
    "# the output feature map of `block5_conv3`\n",
    "grads = K.gradients(linefollow_output, last_conv_layer.output)[0]\n",
    "\n",
    "# This is a vector of shape (512,), where each entry\n",
    "# is the mean intensity of the gradient over a specific feature map channel\n",
    "pooled_grads = K.mean(grads, axis=(0, 1, 2))\n",
    "\n",
    "# This function allows us to access the values of the quantities we just defined:\n",
    "# `pooled_grads` and the output feature map of `block5_conv3`,\n",
    "# given a sample image\n",
    "iterate = K.function([model.input], [pooled_grads, last_conv_layer.output[0]])\n",
    "\n",
    "# These are the values of these two quantities, as Numpy arrays,\n",
    "# given our sample image of two elephants\n",
    "pooled_grads_value, conv_layer_output_value = iterate([img_tensor])\n",
    "\n",
    "# We multiply each channel in the feature map array\n",
    "# by \"how important this channel is\" with regard to the elephant class\n",
    "for i in range(64):\n",
    "    conv_layer_output_value[:, :, i] *= pooled_grads_value[i]\n",
    "\n",
    "# The channel-wise mean of the resulting feature map\n",
    "# is our heatmap of class activation\n",
    "heatmap = np.mean(conv_layer_output_value, axis=-1)"
   ]
  },
  {
   "cell_type": "markdown",
   "metadata": {},
   "source": [
    "For visualization purpose, we will also normalize the heatmap between 0 and 1:"
   ]
  },
  {
   "cell_type": "code",
   "execution_count": 35,
   "metadata": {},
   "outputs": [
    {
     "data": {
      "image/png": "[encoded data removed]",
      "text/plain": [
       "<Figure size 576x288 with 1 Axes>"
      ]
     },
     "metadata": {
      "needs_background": "light"
     },
     "output_type": "display_data"
    }
   ],
   "source": [
    "import matplotlib.pyplot as plt\n",
    "\n",
    "heatmap = np.maximum(heatmap, 0)\n",
    "heatmap /= np.max(heatmap)\n",
    "plt.matshow(heatmap)\n",
    "plt.show()"
   ]
  },
  {
   "cell_type": "markdown",
   "metadata": {},
   "source": [
    "Finally, we will use OpenCV to generate an image that superimposes the original image with the heatmap we just obtained:"
   ]
  },
  {
   "cell_type": "code",
   "execution_count": 36,
   "metadata": {},
   "outputs": [
    {
     "name": "stdout",
     "output_type": "stream",
     "text": [
      "[[0.99912363 0.9992062  0.9996621  1.         0.999878   0.99996614]\n",
      " [0.99893975 0.99927765 0.99984384 0.9998655  0.9998802  0.9999637 ]\n",
      " [0.99911064 0.999504   0.99985564 0.99986196 0.9998916  0.99994034]]\n",
      "(3, 6)\n"
     ]
    }
   ],
   "source": [
    "print(heatmap)\n",
    "print(heatmap.shape)"
   ]
  },
  {
   "cell_type": "code",
   "execution_count": 45,
   "metadata": {},
   "outputs": [
    {
     "name": "stdout",
     "output_type": "stream",
     "text": [
      "/home/wangbin/1_Donkey_Analysis/data/tub_3_19-02-27/212_cam-image_array_.jpg\n"
     ]
    }
   ],
   "source": [
    "import cv2\n",
    "\n",
    "# We use cv2 to load the original image\n",
    "img = cv2.imread(img_path)\n",
    "\n",
    "# We resize the heatmap to have the same size as the original image\n",
    "heatmap_raw = cv2.resize(heatmap, (img.shape[1], img.shape[0]))\n",
    "\n",
    "#plt.matshow(heatmap_raw)\n",
    "#plt.show()\n",
    "\n",
    "# wangbin TODO: the heatmap output is NOT as expected - need to further check detail.(02/28/2019)\n",
    "# We convert the heatmap to RGB\n",
    "heatmap_raw = np.uint8(255 * heatmap_raw)\n",
    "\n",
    "print(img_path)\n",
    "output_img_path = img_path.split(r'/')[-1]\n",
    "output_img_path = base_dir + '/heatmap/' + output_img_path.split('.')[0] + 'heatmap_'\n",
    "\n",
    "cv2.imwrite('{}{}.jpg'.format(output_img_path,1), heatmap_raw)\n",
    "\n",
    "for i in range(0, 13):\n",
    "    im_color = cv2.applyColorMap(img, i)\n",
    "\n",
    "    # We apply the heatmap to the original image\n",
    "    heatmap_raw = cv2.applyColorMap(heatmap_raw, i)\n",
    "    \n",
    "    # 0.4 here is a heatmap intensity factor\n",
    "    superimposed_img = heatmap_raw\n",
    "#    superimposed_img = heatmap_raw * 1 + img\n",
    "\n",
    "    # Save the image to disk\n",
    "    cv2.imwrite('{}{}.jpg'.format(output_img_path,i), superimposed_img)"
   ]
  },
  {
   "cell_type": "markdown",
   "metadata": {},
   "source": [
    "![Heatmap](../../../1_Donkey_Analysis/data/tub_3_19-02-27/212_cam-image_array_.jpg)"
   ]
  },
  {
   "cell_type": "markdown",
   "metadata": {},
   "source": [
    "This visualisation technique answers two important questions:\n",
    "\n",
    "* Why did the network think this image contained an African elephant?\n",
    "* Where is the African elephant located in the picture?\n",
    "\n",
    "In particular, it is interesting to note that the ears of the elephant cub are strongly activated: this is probably how the network can \n",
    "tell the difference between African and Indian elephants.\n"
   ]
  }
 ],
 "metadata": {
  "kernelspec": {
   "display_name": "Python 3",
   "language": "python",
   "name": "python3"
  },
  "language_info": {
   "codemirror_mode": {
    "name": "ipython",
    "version": 3
   },
   "file_extension": ".py",
   "mimetype": "text/x-python",
   "name": "python",
   "nbconvert_exporter": "python",
   "pygments_lexer": "ipython3",
   "version": "3.6.7"
  }
 },
 "nbformat": 4,
 "nbformat_minor": 2
}
